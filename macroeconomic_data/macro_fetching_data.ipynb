{
 "cells": [
  {
   "cell_type": "markdown",
   "metadata": {},
   "source": [
    "# Fetching Macroeconomic Data"
   ]
  },
  {
   "cell_type": "code",
   "execution_count": 1,
   "metadata": {},
   "outputs": [
    {
     "name": "stderr",
     "output_type": "stream",
     "text": [
      "/opt/homebrew/anaconda3/lib/python3.11/site-packages/pandas/core/arrays/masked.py:60: UserWarning: Pandas requires version '1.3.6' or newer of 'bottleneck' (version '1.3.5' currently installed).\n",
      "  from pandas.core import (\n"
     ]
    }
   ],
   "source": [
    "import os\n",
    "import pandas as pd\n",
    "import yfinance as yf\n",
    "from fredapi import Fred\n",
    "\n",
    "fred = Fred(api_key=os.environ['FRED'])"
   ]
  },
  {
   "cell_type": "markdown",
   "metadata": {},
   "source": [
    "## USD/TWD"
   ]
  },
  {
   "cell_type": "code",
   "execution_count": 2,
   "metadata": {},
   "outputs": [
    {
     "name": "stdout",
     "output_type": "stream",
     "text": [
      "USD/TWD Exchange Rate:                  Open       High        Low      Close  Volume  Dividends  \\\n",
      "Date                                                                        \n",
      "2004-03-24  32.022999  32.022999  32.022999  32.022999       0        0.0   \n",
      "2004-03-25  32.002998  32.002998  32.002998  32.002998       0        0.0   \n",
      "2004-03-26  32.011002  32.011002  32.011002  32.011002       0        0.0   \n",
      "2004-03-29  31.978001  31.978001  31.978001  31.978001       0        0.0   \n",
      "2004-03-30  31.952000  31.952000  31.952000  31.952000       0        0.0   \n",
      "...               ...        ...        ...        ...     ...        ...   \n",
      "2024-07-22  32.780998  32.903000  32.762901  32.780998       0        0.0   \n",
      "2024-07-23  32.808498  32.849998  32.766800  32.808498       0        0.0   \n",
      "2024-07-24  32.751301  32.799000  32.669300  32.751301       0        0.0   \n",
      "2024-07-25  32.714802  32.790001  32.613800  32.714802       0        0.0   \n",
      "2024-07-26  32.715000  32.862999  32.641998  32.800999       0        0.0   \n",
      "\n",
      "            Stock Splits  \n",
      "Date                      \n",
      "2004-03-24           0.0  \n",
      "2004-03-25           0.0  \n",
      "2004-03-26           0.0  \n",
      "2004-03-29           0.0  \n",
      "2004-03-30           0.0  \n",
      "...                  ...  \n",
      "2024-07-22           0.0  \n",
      "2024-07-23           0.0  \n",
      "2024-07-24           0.0  \n",
      "2024-07-25           0.0  \n",
      "2024-07-26           0.0  \n",
      "\n",
      "[4865 rows x 7 columns]\n"
     ]
    }
   ],
   "source": [
    "usd_twd = yf.Ticker(\"TWD=X\").history(period=\"max\")\n",
    "usd_twd.index = usd_twd.index.strftime('%Y-%m-%d')\n",
    "print(\"USD/TWD Exchange Rate:\", usd_twd)\n",
    "usd_twd.to_csv('macro/usd_twd_rate.csv')\n"
   ]
  },
  {
   "cell_type": "markdown",
   "metadata": {},
   "source": [
    "## VIX (Volatility Index)"
   ]
  },
  {
   "cell_type": "code",
   "execution_count": 3,
   "metadata": {},
   "outputs": [
    {
     "name": "stdout",
     "output_type": "stream",
     "text": [
      "VIX:                  Open       High        Low      Close  Volume  Dividends  \\\n",
      "Date                                                                        \n",
      "1990-01-02  17.240000  17.240000  17.240000  17.240000       0        0.0   \n",
      "1990-01-03  18.190001  18.190001  18.190001  18.190001       0        0.0   \n",
      "1990-01-04  19.219999  19.219999  19.219999  19.219999       0        0.0   \n",
      "1990-01-05  20.110001  20.110001  20.110001  20.110001       0        0.0   \n",
      "1990-01-08  20.260000  20.260000  20.260000  20.260000       0        0.0   \n",
      "...               ...        ...        ...        ...     ...        ...   \n",
      "2024-07-22  16.790001  16.889999  14.750000  14.910000       0        0.0   \n",
      "2024-07-23  15.210000  15.350000  13.900000  14.720000       0        0.0   \n",
      "2024-07-24  15.350000  18.459999  15.180000  18.040001       0        0.0   \n",
      "2024-07-25  18.410000  19.360001  16.420000  18.459999       0        0.0   \n",
      "2024-07-26  17.969999  18.049999  16.370001  16.389999       0        0.0   \n",
      "\n",
      "            Stock Splits  \n",
      "Date                      \n",
      "1990-01-02           0.0  \n",
      "1990-01-03           0.0  \n",
      "1990-01-04           0.0  \n",
      "1990-01-05           0.0  \n",
      "1990-01-08           0.0  \n",
      "...                  ...  \n",
      "2024-07-22           0.0  \n",
      "2024-07-23           0.0  \n",
      "2024-07-24           0.0  \n",
      "2024-07-25           0.0  \n",
      "2024-07-26           0.0  \n",
      "\n",
      "[8708 rows x 7 columns]\n"
     ]
    }
   ],
   "source": [
    "vix = yf.Ticker(\"^VIX\").history(period='max')\n",
    "vix.index = vix.index.strftime('%Y-%m-%d')\n",
    "print('VIX:', vix)\n",
    "vix.to_csv('macro/vix.csv')"
   ]
  },
  {
   "cell_type": "markdown",
   "metadata": {},
   "source": [
    "## Crude Oil (WTI)"
   ]
  },
  {
   "cell_type": "code",
   "execution_count": 4,
   "metadata": {},
   "outputs": [
    {
     "name": "stdout",
     "output_type": "stream",
     "text": [
      "Crude Oil:                  Open       High        Low      Close  Volume  Dividends  \\\n",
      "Date                                                                        \n",
      "2000-08-23  31.950001  32.799999  31.950001  32.049999   79385        0.0   \n",
      "2000-08-24  31.900000  32.240002  31.400000  31.629999   72978        0.0   \n",
      "2000-08-25  31.700001  32.099998  31.320000  32.049999   44601        0.0   \n",
      "2000-08-28  32.040001  32.919998  31.860001  32.869999   46770        0.0   \n",
      "2000-08-29  32.820000  33.029999  32.560001  32.720001   49131        0.0   \n",
      "...               ...        ...        ...        ...     ...        ...   \n",
      "2024-07-22  80.389999  80.690002  79.169998  79.779999  345235        0.0   \n",
      "2024-07-23  78.269997  78.730003  76.400002  76.959999  417941        0.0   \n",
      "2024-07-24  77.449997  78.190002  76.980003  77.589996  355971        0.0   \n",
      "2024-07-25  77.500000  78.470001  76.040001  78.279999  457288        0.0   \n",
      "2024-07-26  78.349998  78.599998  76.190002  76.440002  340420        0.0   \n",
      "\n",
      "            Stock Splits  \n",
      "Date                      \n",
      "2000-08-23           0.0  \n",
      "2000-08-24           0.0  \n",
      "2000-08-25           0.0  \n",
      "2000-08-28           0.0  \n",
      "2000-08-29           0.0  \n",
      "...                  ...  \n",
      "2024-07-22           0.0  \n",
      "2024-07-23           0.0  \n",
      "2024-07-24           0.0  \n",
      "2024-07-25           0.0  \n",
      "2024-07-26           0.0  \n",
      "\n",
      "[6007 rows x 7 columns]\n"
     ]
    }
   ],
   "source": [
    "crude_oil = yf.Ticker(\"CL=F\").history(period=\"max\")\n",
    "crude_oil.index = crude_oil.index.strftime('%Y-%m-%d')\n",
    "print('Crude Oil:', crude_oil)\n",
    "crude_oil.to_csv('macro/crude_oil.csv')"
   ]
  },
  {
   "cell_type": "markdown",
   "metadata": {},
   "source": [
    "## Gold"
   ]
  },
  {
   "cell_type": "code",
   "execution_count": 5,
   "metadata": {},
   "outputs": [
    {
     "name": "stdout",
     "output_type": "stream",
     "text": [
      "Gold                  Open       High        Low      Close  Volume  Dividends  \\\n",
      "Date                                                                        \n",
      "2000-08-23  31.950001  32.799999  31.950001  32.049999   79385        0.0   \n",
      "2000-08-24  31.900000  32.240002  31.400000  31.629999   72978        0.0   \n",
      "2000-08-25  31.700001  32.099998  31.320000  32.049999   44601        0.0   \n",
      "2000-08-28  32.040001  32.919998  31.860001  32.869999   46770        0.0   \n",
      "2000-08-29  32.820000  33.029999  32.560001  32.720001   49131        0.0   \n",
      "...               ...        ...        ...        ...     ...        ...   \n",
      "2024-07-22  80.389999  80.690002  79.169998  79.779999  345235        0.0   \n",
      "2024-07-23  78.269997  78.730003  76.400002  76.959999  417941        0.0   \n",
      "2024-07-24  77.449997  78.190002  76.980003  77.589996  355971        0.0   \n",
      "2024-07-25  77.500000  78.470001  76.040001  78.279999  457288        0.0   \n",
      "2024-07-26  78.349998  78.599998  76.190002  76.440002  340420        0.0   \n",
      "\n",
      "            Stock Splits  \n",
      "Date                      \n",
      "2000-08-23           0.0  \n",
      "2000-08-24           0.0  \n",
      "2000-08-25           0.0  \n",
      "2000-08-28           0.0  \n",
      "2000-08-29           0.0  \n",
      "...                  ...  \n",
      "2024-07-22           0.0  \n",
      "2024-07-23           0.0  \n",
      "2024-07-24           0.0  \n",
      "2024-07-25           0.0  \n",
      "2024-07-26           0.0  \n",
      "\n",
      "[6007 rows x 7 columns]\n"
     ]
    }
   ],
   "source": [
    "gold = yf.Ticker('CL=F').history(period='max')\n",
    "gold.index = gold.index.strftime('%Y-%m-%d')\n",
    "print('Gold', gold)\n",
    "gold.to_csv('macro/gold.csv')"
   ]
  },
  {
   "cell_type": "markdown",
   "metadata": {},
   "source": [
    "## Consumer Price Index (CPI)"
   ]
  },
  {
   "cell_type": "code",
   "execution_count": 6,
   "metadata": {},
   "outputs": [
    {
     "name": "stdout",
     "output_type": "stream",
     "text": [
      "CPI:                 CPI\n",
      "Date               \n",
      "1947-01-01   21.480\n",
      "1947-02-01   21.620\n",
      "1947-03-01   22.000\n",
      "1947-04-01   22.000\n",
      "1947-05-01   21.950\n",
      "...             ...\n",
      "2024-02-01  311.054\n",
      "2024-03-01  312.230\n",
      "2024-04-01  313.207\n",
      "2024-05-01  313.225\n",
      "2024-06-01  313.049\n",
      "\n",
      "[930 rows x 1 columns]\n"
     ]
    }
   ],
   "source": [
    "cpi = fred.get_series('CPIAUCSL')\n",
    "cpi_df = pd.DataFrame(list(cpi.items()), columns=['Date','CPI'])\n",
    "cpi_df['Date'] = pd.to_datetime(cpi_df['Date'])\n",
    "cpi_df.set_index('Date', inplace=True)\n",
    "print(\"CPI:\", cpi_df)\n",
    "cpi_df.to_csv('macro/cpi.csv')"
   ]
  },
  {
   "cell_type": "markdown",
   "metadata": {},
   "source": [
    "## Unemployment Rate"
   ]
  },
  {
   "cell_type": "code",
   "execution_count": 7,
   "metadata": {},
   "outputs": [
    {
     "name": "stdout",
     "output_type": "stream",
     "text": [
      "            Unemployment Rate\n",
      "Date                         \n",
      "1948-01-01                3.4\n",
      "1948-02-01                3.8\n",
      "1948-03-01                4.0\n",
      "1948-04-01                3.9\n",
      "1948-05-01                3.5\n",
      "...                       ...\n",
      "2024-02-01                3.9\n",
      "2024-03-01                3.8\n",
      "2024-04-01                3.9\n",
      "2024-05-01                4.0\n",
      "2024-06-01                4.1\n",
      "\n",
      "[918 rows x 1 columns]\n"
     ]
    }
   ],
   "source": [
    "unemplyment_data = fred.get_series('UNRATE')\n",
    "unrate_df = pd.DataFrame(list(unemplyment_data.items()), columns=['Date','Unemployment Rate'])\n",
    "unrate_df['Date'] = pd.to_datetime(unrate_df['Date'])\n",
    "unrate_df.set_index('Date', inplace=True)\n",
    "print(unrate_df)\n",
    "unrate_df.to_csv('macro/unemployment_rate.csv')"
   ]
  },
  {
   "cell_type": "markdown",
   "metadata": {},
   "source": [
    "## Interest Rate"
   ]
  },
  {
   "cell_type": "code",
   "execution_count": 8,
   "metadata": {},
   "outputs": [
    {
     "name": "stdout",
     "output_type": "stream",
     "text": [
      "            Interest Rate\n",
      "Date                     \n",
      "1954-07-01           0.80\n",
      "1954-08-01           1.22\n",
      "1954-09-01           1.07\n",
      "1954-10-01           0.85\n",
      "1954-11-01           0.83\n",
      "...                   ...\n",
      "2024-02-01           5.33\n",
      "2024-03-01           5.33\n",
      "2024-04-01           5.33\n",
      "2024-05-01           5.33\n",
      "2024-06-01           5.33\n",
      "\n",
      "[840 rows x 1 columns]\n"
     ]
    }
   ],
   "source": [
    "interest_rate_data = fred.get_series('FEDFUNDS')\n",
    "interest_rate_df = pd.DataFrame(list(interest_rate_data.items()), columns=['Date','Interest Rate'])\n",
    "interest_rate_df['Date'] = pd.to_datetime(interest_rate_df['Date'])\n",
    "interest_rate_df.set_index('Date', inplace=True)\n",
    "print(interest_rate_df)\n",
    "interest_rate_df.to_csv('macro/interest_rate.csv')"
   ]
  },
  {
   "cell_type": "markdown",
   "metadata": {},
   "source": [
    "## Money Supply (M2)"
   ]
  },
  {
   "cell_type": "code",
   "execution_count": 9,
   "metadata": {},
   "outputs": [
    {
     "name": "stdout",
     "output_type": "stream",
     "text": [
      "                 M2\n",
      "Date               \n",
      "1959-01-01    286.6\n",
      "1959-02-01    287.7\n",
      "1959-03-01    289.2\n",
      "1959-04-01    290.1\n",
      "1959-05-01    292.2\n",
      "...             ...\n",
      "2024-02-01  20743.9\n",
      "2024-03-01  20835.8\n",
      "2024-04-01  20861.5\n",
      "2024-05-01  20951.7\n",
      "2024-06-01  21024.7\n",
      "\n",
      "[786 rows x 1 columns]\n"
     ]
    }
   ],
   "source": [
    "m2_data = fred.get_series('M2SL')\n",
    "m2_df = pd.DataFrame(list(m2_data.items()), columns=['Date','M2'])\n",
    "m2_df['Date'] = pd.to_datetime(m2_df['Date'])\n",
    "m2_df.set_index('Date', inplace=True)\n",
    "print(m2_df)\n",
    "m2_df.to_csv('macro/m2_data.csv')"
   ]
  }
 ],
 "metadata": {
  "kernelspec": {
   "display_name": "base",
   "language": "python",
   "name": "python3"
  },
  "language_info": {
   "codemirror_mode": {
    "name": "ipython",
    "version": 3
   },
   "file_extension": ".py",
   "mimetype": "text/x-python",
   "name": "python",
   "nbconvert_exporter": "python",
   "pygments_lexer": "ipython3",
   "version": "3.11.4"
  }
 },
 "nbformat": 4,
 "nbformat_minor": 2
}
