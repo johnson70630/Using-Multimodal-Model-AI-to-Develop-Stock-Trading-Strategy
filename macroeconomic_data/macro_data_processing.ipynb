{
 "cells": [
  {
   "cell_type": "markdown",
   "metadata": {},
   "source": [
    "# Process Data for GNN"
   ]
  },
  {
   "cell_type": "code",
   "execution_count": 1,
   "metadata": {},
   "outputs": [
    {
     "name": "stderr",
     "output_type": "stream",
     "text": [
      "/opt/homebrew/anaconda3/lib/python3.11/site-packages/pandas/core/arrays/masked.py:60: UserWarning: Pandas requires version '1.3.6' or newer of 'bottleneck' (version '1.3.5' currently installed).\n",
      "  from pandas.core import (\n"
     ]
    }
   ],
   "source": [
    "import pandas as pd"
   ]
  },
  {
   "cell_type": "code",
   "execution_count": 2,
   "metadata": {},
   "outputs": [
    {
     "name": "stdout",
     "output_type": "stream",
     "text": [
      "            Date       Open       High        Low      Close  Volume  \\\n",
      "0     2004-03-24  32.022999  32.022999  32.022999  32.022999       0   \n",
      "1     2004-03-25  32.002998  32.002998  32.002998  32.002998       0   \n",
      "2     2004-03-26  32.011002  32.011002  32.011002  32.011002       0   \n",
      "3     2004-03-29  31.978001  31.978001  31.978001  31.978001       0   \n",
      "4     2004-03-30  31.952000  31.952000  31.952000  31.952000       0   \n",
      "...          ...        ...        ...        ...        ...     ...   \n",
      "4860  2024-07-22  32.780998  32.903000  32.762901  32.780998       0   \n",
      "4861  2024-07-23  32.808498  32.849998  32.766800  32.808498       0   \n",
      "4862  2024-07-24  32.751301  32.799000  32.669300  32.751301       0   \n",
      "4863  2024-07-25  32.714802  32.790001  32.613800  32.714802       0   \n",
      "4864  2024-07-26  32.715000  32.862999  32.641998  32.800999       0   \n",
      "\n",
      "      Dividends  Stock Splits  \n",
      "0           0.0           0.0  \n",
      "1           0.0           0.0  \n",
      "2           0.0           0.0  \n",
      "3           0.0           0.0  \n",
      "4           0.0           0.0  \n",
      "...         ...           ...  \n",
      "4860        0.0           0.0  \n",
      "4861        0.0           0.0  \n",
      "4862        0.0           0.0  \n",
      "4863        0.0           0.0  \n",
      "4864        0.0           0.0  \n",
      "\n",
      "[4865 rows x 8 columns]\n",
      "           Date      CPI\n",
      "0    1947-01-01   21.480\n",
      "1    1947-02-01   21.620\n",
      "2    1947-03-01   22.000\n",
      "3    1947-04-01   22.000\n",
      "4    1947-05-01   21.950\n",
      "..          ...      ...\n",
      "925  2024-02-01  311.054\n",
      "926  2024-03-01  312.230\n",
      "927  2024-04-01  313.207\n",
      "928  2024-05-01  313.225\n",
      "929  2024-06-01  313.049\n",
      "\n",
      "[930 rows x 2 columns]\n"
     ]
    }
   ],
   "source": [
    "# data from yahoo finace\n",
    "usd_twd = pd.read_csv('macro/usd_twd_rate.csv')\n",
    "vix = pd.read_csv('macro/vix.csv')\n",
    "crude_oil = pd.read_csv('macro/crude_oil.csv')\n",
    "gold = pd.read_csv('macro/gold.csv')\n",
    "\n",
    "# data from FRED\n",
    "cpi = pd.read_csv('macro/cpi.csv')\n",
    "unemployment_rate = pd.read_csv('macro/unemployment_rate.csv')\n",
    "interest_rate = pd.read_csv('macro/interest_rate.csv')\n",
    "m2 = pd.read_csv('macro/m2_data.csv')\n",
    "\n",
    "print(usd_twd)\n",
    "print(cpi)"
   ]
  },
  {
   "cell_type": "markdown",
   "metadata": {},
   "source": [
    "## Only Keep Close price"
   ]
  },
  {
   "cell_type": "code",
   "execution_count": 3,
   "metadata": {},
   "outputs": [
    {
     "name": "stdout",
     "output_type": "stream",
     "text": [
      "            Date    USD/TWD\n",
      "0     2004-03-24  32.022999\n",
      "1     2004-03-25  32.002998\n",
      "2     2004-03-26  32.011002\n",
      "3     2004-03-29  31.978001\n",
      "4     2004-03-30  31.952000\n",
      "...          ...        ...\n",
      "4860  2024-07-22  32.780998\n",
      "4861  2024-07-23  32.808498\n",
      "4862  2024-07-24  32.751301\n",
      "4863  2024-07-25  32.714802\n",
      "4864  2024-07-26  32.800999\n",
      "\n",
      "[4865 rows x 2 columns]\n"
     ]
    }
   ],
   "source": [
    "usd_twd = usd_twd[['Date', 'Close']].rename(columns={'Close': 'USD/TWD'})\n",
    "vix = vix[['Date', 'Close']].rename(columns={'Close': 'VIX'})\n",
    "crude_oil = crude_oil[['Date', 'Close']].rename(columns={'Close': ' Crude Oil'})\n",
    "gold = gold[['Date', 'Close']].rename(columns={'Close': 'Gold'})\n",
    "\n",
    "print(usd_twd)"
   ]
  },
  {
   "cell_type": "markdown",
   "metadata": {},
   "source": [
    "## Resample to a consistent frequency and extend to 2024-06-30"
   ]
  },
  {
   "cell_type": "code",
   "execution_count": 4,
   "metadata": {},
   "outputs": [],
   "source": [
    "def resampling(df, col_name):\n",
    "    # Set date as index\n",
    "    df['Date'] = pd.to_datetime(df['Date'])\n",
    "    df.set_index('Date', inplace=True)\n",
    "\n",
    "    # Resample to daily data\n",
    "    df = df.resample('D').asfreq()\n",
    "    df[col_name] = df[col_name].interpolate(method='linear')\n",
    "\n",
    "    # Extend dates with the value from 2024-06-01\n",
    "    date_range = pd.date_range(start='2024-06-02', end='2024-06-30', freq='D')\n",
    "    df_value = df.loc['2024-06-01', col_name]\n",
    "    extended_data = pd.DataFrame({col_name: df_value}, index=date_range)\n",
    "    df = pd.concat([df, extended_data])\n",
    "\n",
    "    # reset the index to match all data\n",
    "    df.reset_index(inplace=True)\n",
    "    df.rename(columns={'index': 'Date'}, inplace=True)\n",
    "\n",
    "    return df"
   ]
  },
  {
   "cell_type": "code",
   "execution_count": 5,
   "metadata": {},
   "outputs": [
    {
     "name": "stdout",
     "output_type": "stream",
     "text": [
      "            Date         CPI\n",
      "0     1947-01-01   21.480000\n",
      "1     1947-01-02   21.484516\n",
      "2     1947-01-03   21.489032\n",
      "3     1947-01-04   21.493548\n",
      "4     1947-01-05   21.498065\n",
      "...          ...         ...\n",
      "28301 2024-06-26  313.049000\n",
      "28302 2024-06-27  313.049000\n",
      "28303 2024-06-28  313.049000\n",
      "28304 2024-06-29  313.049000\n",
      "28305 2024-06-30  313.049000\n",
      "\n",
      "[28306 rows x 2 columns]\n"
     ]
    }
   ],
   "source": [
    "cpi = resampling(cpi, 'CPI')\n",
    "unemployment_rate = resampling(unemployment_rate, 'Unemployment Rate')\n",
    "interest_rate = resampling(interest_rate, 'Interest Rate')\n",
    "m2 = resampling(m2, 'M2')\n",
    "\n",
    "print(cpi)"
   ]
  },
  {
   "cell_type": "markdown",
   "metadata": {},
   "source": [
    "# Concat all data"
   ]
  },
  {
   "cell_type": "code",
   "execution_count": 6,
   "metadata": {},
   "outputs": [
    {
     "name": "stdout",
     "output_type": "stream",
     "text": [
      "              USD/TWD        VIX   Crude Oil       Gold         CPI  \\\n",
      "Date                                                                  \n",
      "2004-03-24  32.022999  19.809999   37.009998  37.009998  187.322581   \n",
      "2004-03-25  32.002998  17.879999   35.509998  35.509998  187.332258   \n",
      "2004-03-26  32.011002  17.330000   35.730000  35.730000  187.341935   \n",
      "2004-03-29  31.978001  16.500000   35.450001  35.450001  187.370968   \n",
      "2004-03-30  31.952000  16.280001   36.250000  36.250000  187.380645   \n",
      "...               ...        ...         ...        ...         ...   \n",
      "2024-06-24  32.362999  13.330000   81.629997  81.629997  313.049000   \n",
      "2024-06-25  32.321499  12.840000   80.830002  80.830002  313.049000   \n",
      "2024-06-26  32.473499  12.550000   80.900002  80.900002  313.049000   \n",
      "2024-06-27  32.582298  12.240000   81.739998  81.739998  313.049000   \n",
      "2024-06-28  32.521999  12.440000   81.540001  81.540001  313.049000   \n",
      "\n",
      "            Unemployment Rate  Interest Rate            M2  \n",
      "Date                                                        \n",
      "2004-03-24           5.651613           1.00   6180.593548  \n",
      "2004-03-25           5.645161           1.00   6181.919355  \n",
      "2004-03-26           5.638710           1.00   6183.245161  \n",
      "2004-03-29           5.619355           1.00   6187.222581  \n",
      "2004-03-30           5.612903           1.00   6188.548387  \n",
      "...                       ...            ...           ...  \n",
      "2024-06-24           4.100000           5.33  21024.700000  \n",
      "2024-06-25           4.100000           5.33  21024.700000  \n",
      "2024-06-26           4.100000           5.33  21024.700000  \n",
      "2024-06-27           4.100000           5.33  21024.700000  \n",
      "2024-06-28           4.100000           5.33  21024.700000  \n",
      "\n",
      "[4672 rows x 8 columns]\n"
     ]
    }
   ],
   "source": [
    "def datetime(df):\n",
    "    df['Date'] = pd.to_datetime(df['Date'])\n",
    "    df.set_index('Date', inplace=True)\n",
    "    return df\n",
    "\n",
    "all_data = [usd_twd, vix, crude_oil, gold, cpi, unemployment_rate, interest_rate, m2]\n",
    "all_data = [datetime(data) for data in all_data]\n",
    "\n",
    "combined_df = pd.concat(all_data, axis=1)\n",
    "combined_df.dropna(inplace=True)\n",
    "print(combined_df)\n",
    "combined_df.to_csv('macro/combined.csv')\n"
   ]
  },
  {
   "cell_type": "markdown",
   "metadata": {},
   "source": [
    "## Normalization (60 days)"
   ]
  },
  {
   "cell_type": "code",
   "execution_count": 11,
   "metadata": {},
   "outputs": [
    {
     "name": "stdout",
     "output_type": "stream",
     "text": [
      "             USD/TWD       VIX   Crude Oil      Gold  CPI  Unemployment Rate  \\\n",
      "Date                                                                           \n",
      "2014-01-02  0.458912  0.275304    0.292638  0.292638  1.0           0.000000   \n",
      "2014-01-03  0.936789  0.211876    0.154995  0.154995  1.0           0.006211   \n",
      "2014-01-06  0.567636  0.210201    0.105509  0.105509  1.0           0.025316   \n",
      "2014-01-07  1.000000  0.112829    0.135509  0.135509  1.0           0.032258   \n",
      "2014-01-08  1.000000  0.105101    0.002967  0.002967  1.0           0.041096   \n",
      "...              ...       ...         ...       ...  ...                ...   \n",
      "2024-06-24  0.618778  0.199457    0.613470  0.613470  0.0           1.000000   \n",
      "2024-06-25  0.558919  0.132972    0.554905  0.554905  0.0           1.000000   \n",
      "2024-06-26  0.767356  0.093623    0.560029  0.560029  0.0           1.000000   \n",
      "2024-06-27  0.931929  0.051560    0.621522  0.621522  0.0           1.000000   \n",
      "2024-06-28  0.840719  0.078697    0.606881  0.606881  0.0           1.000000   \n",
      "\n",
      "            Interest Rate   M2  \n",
      "Date                            \n",
      "2014-01-02            0.0  1.0  \n",
      "2014-01-03            0.0  1.0  \n",
      "2014-01-06            0.0  1.0  \n",
      "2014-01-07            0.0  1.0  \n",
      "2014-01-08            0.0  1.0  \n",
      "...                   ...  ...  \n",
      "2024-06-24            0.0  1.0  \n",
      "2024-06-25            0.0  1.0  \n",
      "2024-06-26            0.0  1.0  \n",
      "2024-06-27            0.0  1.0  \n",
      "2024-06-28            0.0  1.0  \n",
      "\n",
      "[2635 rows x 8 columns]\n"
     ]
    }
   ],
   "source": [
    "def normalize(df):\n",
    "    rolling_min = df.rolling(window=60).min()\n",
    "    rolling_max = df.rolling(window=60).max()\n",
    "    normalized_df = (df-rolling_min)/(rolling_max-rolling_min)\n",
    "    return normalized_df\n",
    "\n",
    "normalized_df = normalize(combined_df)\n",
    "normalized_df = normalized_df.loc['2014-01-01':'2024-06-30']\n",
    "normalized_df.fillna(0.0, inplace=True)\n",
    "\n",
    "print(normalized_df)\n",
    "normalized_df.to_csv('macro/normalized_macro.csv')"
   ]
  }
 ],
 "metadata": {
  "kernelspec": {
   "display_name": "base",
   "language": "python",
   "name": "python3"
  },
  "language_info": {
   "codemirror_mode": {
    "name": "ipython",
    "version": 3
   },
   "file_extension": ".py",
   "mimetype": "text/x-python",
   "name": "python",
   "nbconvert_exporter": "python",
   "pygments_lexer": "ipython3",
   "version": "3.11.4"
  }
 },
 "nbformat": 4,
 "nbformat_minor": 2
}
